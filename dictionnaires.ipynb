{
 "cells": [
  {
   "cell_type": "markdown",
   "metadata": {},
   "source": [
    "<h1><span style=\"color:#2E9AFE\"> Représentation des données :  Les dictionnaires</span></h1>\n",
    "    \n",
    "--> Un dictionnaire (ou tableaux associatifs ou tables de hachage) est un ensemble de valeurs associées à des clés.<br>\n",
    "--> Un dictionnaire commence et se termine pas des accolades.<br>\n",
    "--> La clé est séparée de la valeur par : et les éléments sont séparés par une virgule<br>\n",
    "--> On peut accéder directement à la valeur d'un élément directement par sa clé.<br>\n",
    "--> On peut ajouter , supprimer ou modifier leur contenu (On dit qu'ils sont mutables)<br>\n",
    "--> On ne peut pas accéder à un élément par son indice mais bien par sa clé.<br>"
   ]
  },
  {
   "cell_type": "markdown",
   "metadata": {},
   "source": [
    "<h1><span style=\"color:#2E9AFE\"> Des exemples de dictionnaire  </span></h1>"
   ]
  },
  {
   "cell_type": "code",
   "execution_count": 93,
   "metadata": {},
   "outputs": [],
   "source": [
    "dicoVide = {}\n",
    "dicoBoulangerie = {\"baguette\" : 1.05 , \"croissant\" : 1.5 , \"pain au chocolat\": 2.0}"
   ]
  },
  {
   "cell_type": "markdown",
   "metadata": {},
   "source": [
    "<span style=\"color:#2E9AFE\">Pour retrouver le prix d'un croissant.</span>"
   ]
  },
  {
   "cell_type": "code",
   "execution_count": 94,
   "metadata": {},
   "outputs": [],
   "source": [
    "#dicoBoulangerie[\"croissant\"]"
   ]
  },
  {
   "cell_type": "markdown",
   "metadata": {},
   "source": [
    "<span style=\"color:#2E9AFE\">Rechercher le prix d'un \"pain aux raisins\"</span>"
   ]
  },
  {
   "cell_type": "code",
   "execution_count": 95,
   "metadata": {},
   "outputs": [],
   "source": [
    "\n",
    "# Evidement, nous obtenons une erreur"
   ]
  },
  {
   "cell_type": "markdown",
   "metadata": {},
   "source": [
    "<span style=\"color:#2E9AFE\">En réalité la \"pain aux raisins\" coute 2.50 €, il faut donc ajouter cette information au dictionnaire</span>"
   ]
  },
  {
   "cell_type": "code",
   "execution_count": 96,
   "metadata": {},
   "outputs": [],
   "source": [
    "#"
   ]
  },
  {
   "cell_type": "code",
   "execution_count": 97,
   "metadata": {},
   "outputs": [
    {
     "ename": "KeyError",
     "evalue": "'pain aux raisins'",
     "output_type": "error",
     "traceback": [
      "\u001b[0;31m---------------------------------------------------------------------------\u001b[0m",
      "\u001b[0;31mKeyError\u001b[0m                                  Traceback (most recent call last)",
      "\u001b[0;32m<ipython-input-97-d15f35339b63>\u001b[0m in \u001b[0;36m<module>\u001b[0;34m\u001b[0m\n\u001b[0;32m----> 1\u001b[0;31m \u001b[0mprint\u001b[0m\u001b[0;34m(\u001b[0m\u001b[0mdicoBoulangerie\u001b[0m\u001b[0;34m[\u001b[0m\u001b[0;34m\"pain aux raisins\"\u001b[0m\u001b[0;34m]\u001b[0m\u001b[0;34m)\u001b[0m\u001b[0;34m\u001b[0m\u001b[0;34m\u001b[0m\u001b[0m\n\u001b[0m",
      "\u001b[0;31mKeyError\u001b[0m: 'pain aux raisins'"
     ]
    }
   ],
   "source": [
    "print(dicoBoulangerie[\"pain aux raisins\"])"
   ]
  },
  {
   "cell_type": "markdown",
   "metadata": {},
   "source": [
    "<span style=\"color:#2E9AFE\">Quel est le nombre d'articles désormais référencés ?</span>"
   ]
  },
  {
   "cell_type": "code",
   "execution_count": 98,
   "metadata": {},
   "outputs": [],
   "source": [
    "#"
   ]
  },
  {
   "cell_type": "markdown",
   "metadata": {},
   "source": [
    "<span style=\"color:#2E9AFE\">Depuis le début du mois, tous les articles ont augmenté de 10%. Il faut donc mettre à jour l'ensemble du dictionnaire.</span>"
   ]
  },
  {
   "cell_type": "code",
   "execution_count": 99,
   "metadata": {},
   "outputs": [],
   "source": [
    "#"
   ]
  },
  {
   "cell_type": "markdown",
   "metadata": {},
   "source": [
    "<span style=\"color:#2E9AFE\">Afficher ensuite l'ensemble du catalogue.</span>"
   ]
  },
  {
   "cell_type": "code",
   "execution_count": 100,
   "metadata": {},
   "outputs": [],
   "source": [
    "#"
   ]
  },
  {
   "cell_type": "markdown",
   "metadata": {},
   "source": [
    "<span style=\"color:#2E9AFE\">Grosses promotions ! Tous les articles dont le prix dépasse 1.5 seront réduits de 15% </span>"
   ]
  },
  {
   "cell_type": "code",
   "execution_count": 101,
   "metadata": {},
   "outputs": [],
   "source": [
    "#\n",
    "#\n",
    "#\n",
    "#\n"
   ]
  },
  {
   "cell_type": "markdown",
   "metadata": {},
   "source": [
    "<span style=\"color:#2E9AFE\">Le boulanger souhaite vérifier s'il vend des viennoiseries à plus de 2 €</span>"
   ]
  },
  {
   "cell_type": "code",
   "execution_count": null,
   "metadata": {},
   "outputs": [],
   "source": []
  },
  {
   "cell_type": "markdown",
   "metadata": {},
   "source": [
    "<span style=\"color:#2E9AFE\">Le boulanger souhaite à tout prix écrire en grand... Tout est moins de 2 € </span>"
   ]
  },
  {
   "cell_type": "code",
   "execution_count": 102,
   "metadata": {},
   "outputs": [],
   "source": [
    "#"
   ]
  },
  {
   "cell_type": "markdown",
   "metadata": {},
   "source": [
    "<span style=\"color:#2E9AFE\">Le boulanger souhaite désormais imprimer des étiquettes sous la forme :\n",
    "BAGUETTE : 1.16 €. A vous de jouer</span>"
   ]
  },
  {
   "cell_type": "code",
   "execution_count": null,
   "metadata": {},
   "outputs": [],
   "source": []
  }
 ],
 "metadata": {
  "kernelspec": {
   "display_name": "Python 3",
   "language": "python",
   "name": "python3"
  },
  "language_info": {
   "codemirror_mode": {
    "name": "ipython",
    "version": 3
   },
   "file_extension": ".py",
   "mimetype": "text/x-python",
   "name": "python",
   "nbconvert_exporter": "python",
   "pygments_lexer": "ipython3",
   "version": "3.7.3"
  }
 },
 "nbformat": 4,
 "nbformat_minor": 2
}
